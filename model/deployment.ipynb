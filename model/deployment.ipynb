{
 "cells": [
  {
   "cell_type": "markdown",
   "metadata": {},
   "source": [
    "# Problem formulation\n",
    "\n",
    "Build an application that will classify between Harry Potter and Star Wars when user hum to it, using the model built in basic solution"
   ]
  },
  {
   "cell_type": "markdown",
   "metadata": {},
   "source": [
    "# Approach\n",
    "\n",
    "At an overall level, there are five stages for building this app.\n",
    "- Save the classifier pipeline from basic solution to disk.\n",
    "- Load the classifier pipeline in an application.\n",
    "- Create an API which will take an audio wav file as input and extract features from it and get prediction from the loaded classifier.\n",
    "- Developing UI with a recorder where users can sing.\n",
    "- Deploying the application as a hosted service so that users can access them through browser."
   ]
  },
  {
   "cell_type": "markdown",
   "metadata": {},
   "source": [
    "#### Saving the model\n",
    "\n",
    "The classifier pipline we developed in basic solution is a python. Any python object can be serialized as pickle file to store on disk. There are multiple libraries to do this. I've picked [Joblib](https://joblib.readthedocs.io/en/latest/) library to do this. \n",
    "\n",
    "Pipeline can be saved using `joblib.dump(pipeline, 'model.pkl')` command. I've picked the SVM model since it doesn't need many parameters and that can improve turn around time for the API while deployment."
   ]
  },
  {
   "cell_type": "markdown",
   "metadata": {},
   "source": [
    "#### Loading the model\n",
    "\n",
    "Joblib can be used to deserialize the pickle object and load the model as python object using the command `joblib.load('model.pkl')`"
   ]
  },
  {
   "cell_type": "markdown",
   "metadata": {},
   "source": [
    "#### Creating API\n",
    "\n",
    "I have used [FastAPI](https://fastapi.tiangolo.com/) as the web framework for building the prediction API. The API will accept a WAV file as input and return whether the audio is Harry Potter or Star Wars theme song. \n",
    "\n",
    "The API does 4 steps:\n",
    "- Accept WAV file as an input.\n",
    "- Extract features from WAV file.\n",
    "- Request model for prediction with the extracted features.\n",
    "- Check the model response and validate if the prediction probability is more than 75%. If prediction confidence is less than 75% return \"Uknown\" esle return the song name to the user."
   ]
  },
  {
   "cell_type": "markdown",
   "metadata": {},
   "source": [
    "#### Developing UI\n",
    "I used [Jinja Templates](https://palletsprojects.com/p/jinja/) for UI and [Recorder.js](https://github.com/mattdiamond/Recorderjs) for recording audio and converting as WAV file. The file is send to the API via an [AJAX](https://en.wikipedia.org/wiki/Ajax_(programming)) request and returned result is displayed in the UI."
   ]
  },
  {
   "cell_type": "markdown",
   "metadata": {},
   "source": [
    "#### Deployment\n",
    "\n",
    "I have deployed this app in [Heroku](https://www.heroku.com/) as [Dockerized](https://www.docker.com/) container. Containerization helps to avoid any issues due to mismatch in development and deployment environment. "
   ]
  },
  {
   "cell_type": "markdown",
   "metadata": {},
   "source": [
    "# Results\n",
    "\n",
    "The application is deployed at https://starwarsvspotter.herokuapp.com/.\n",
    "\n",
    "**Note**: I have tested this application in Chrome and Safari only. If you face any issues with other browser, please use the API directly to test this. The API is documented [here](https://starwarsvspotter.herokuapp.com/docs#/default/upload_file_upload_post). Also, HTTPS is required for the Recorder to work."
   ]
  }
 ],
 "metadata": {
  "language_info": {
   "name": "python"
  },
  "orig_nbformat": 4
 },
 "nbformat": 4,
 "nbformat_minor": 2
}
